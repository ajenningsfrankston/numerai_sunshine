{
 "cells": [
  {
   "cell_type": "code",
   "execution_count": 9,
   "metadata": {
    "execution": {
     "iopub.execute_input": "2023-04-03T06:08:19.441433Z",
     "iopub.status.busy": "2023-04-03T06:08:19.441041Z",
     "iopub.status.idle": "2023-04-03T06:08:29.260932Z",
     "shell.execute_reply": "2023-04-03T06:08:29.260089Z",
     "shell.execute_reply.started": "2023-04-03T06:08:19.441409Z"
    },
    "tags": []
   },
   "outputs": [
    {
     "name": "stdout",
     "output_type": "stream",
     "text": [
      "Requirement already satisfied: pandas in /opt/saturncloud/envs/saturn/lib/python3.9/site-packages (1.4.2)\n",
      "Requirement already satisfied: python-dateutil>=2.8.1 in /opt/saturncloud/envs/saturn/lib/python3.9/site-packages (from pandas) (2.8.2)\n",
      "Requirement already satisfied: pytz>=2020.1 in /opt/saturncloud/envs/saturn/lib/python3.9/site-packages (from pandas) (2022.7.1)\n",
      "Requirement already satisfied: numpy>=1.18.5 in /opt/saturncloud/envs/saturn/lib/python3.9/site-packages (from pandas) (1.21.6)\n",
      "Requirement already satisfied: six>=1.5 in /opt/saturncloud/envs/saturn/lib/python3.9/site-packages (from python-dateutil>=2.8.1->pandas) (1.16.0)\n",
      "Requirement already satisfied: tqdm in /opt/saturncloud/envs/saturn/lib/python3.9/site-packages (4.65.0)\n",
      "Requirement already satisfied: halo in /opt/saturncloud/envs/saturn/lib/python3.9/site-packages (0.0.31)\n",
      "Requirement already satisfied: spinners>=0.0.24 in /opt/saturncloud/envs/saturn/lib/python3.9/site-packages (from halo) (0.0.24)\n",
      "Requirement already satisfied: log-symbols>=0.0.14 in /opt/saturncloud/envs/saturn/lib/python3.9/site-packages (from halo) (0.0.14)\n",
      "Requirement already satisfied: six>=1.12.0 in /opt/saturncloud/envs/saturn/lib/python3.9/site-packages (from halo) (1.16.0)\n",
      "Requirement already satisfied: colorama>=0.3.9 in /opt/saturncloud/envs/saturn/lib/python3.9/site-packages (from halo) (0.4.6)\n",
      "Requirement already satisfied: termcolor>=1.1.0 in /opt/saturncloud/envs/saturn/lib/python3.9/site-packages (from halo) (2.2.0)\n",
      "Requirement already satisfied: numerapi in /opt/saturncloud/envs/saturn/lib/python3.9/site-packages (2.13.2)\n",
      "Requirement already satisfied: click>=7.0 in /opt/saturncloud/envs/saturn/lib/python3.9/site-packages (from numerapi) (8.1.3)\n",
      "Requirement already satisfied: pytz in /opt/saturncloud/envs/saturn/lib/python3.9/site-packages (from numerapi) (2022.7.1)\n",
      "Requirement already satisfied: pandas>=1.1.0 in /opt/saturncloud/envs/saturn/lib/python3.9/site-packages (from numerapi) (1.4.2)\n",
      "Requirement already satisfied: requests in /opt/saturncloud/envs/saturn/lib/python3.9/site-packages (from numerapi) (2.28.2)\n",
      "Requirement already satisfied: tqdm>=4.29.1 in /opt/saturncloud/envs/saturn/lib/python3.9/site-packages (from numerapi) (4.65.0)\n",
      "Requirement already satisfied: python-dateutil in /opt/saturncloud/envs/saturn/lib/python3.9/site-packages (from numerapi) (2.8.2)\n",
      "Requirement already satisfied: numpy>=1.18.5 in /opt/saturncloud/envs/saturn/lib/python3.9/site-packages (from pandas>=1.1.0->numerapi) (1.21.6)\n",
      "Requirement already satisfied: six>=1.5 in /opt/saturncloud/envs/saturn/lib/python3.9/site-packages (from python-dateutil->numerapi) (1.16.0)\n",
      "Requirement already satisfied: urllib3<1.27,>=1.21.1 in /opt/saturncloud/envs/saturn/lib/python3.9/site-packages (from requests->numerapi) (1.26.15)\n",
      "Requirement already satisfied: certifi>=2017.4.17 in /opt/saturncloud/envs/saturn/lib/python3.9/site-packages (from requests->numerapi) (2022.12.7)\n",
      "Requirement already satisfied: charset-normalizer<4,>=2 in /opt/saturncloud/envs/saturn/lib/python3.9/site-packages (from requests->numerapi) (2.0.12)\n",
      "Requirement already satisfied: idna<4,>=2.5 in /opt/saturncloud/envs/saturn/lib/python3.9/site-packages (from requests->numerapi) (3.4)\n",
      "\r"
     ]
    }
   ],
   "source": [
    "!pip install pandas\n",
    "!pip install tqdm\n",
    "!pip install halo\n",
    "!pip install numerapi"
   ]
  },
  {
   "cell_type": "code",
   "execution_count": 10,
   "metadata": {
    "collapsed": false,
    "execution": {
     "iopub.execute_input": "2023-04-03T06:08:35.669774Z",
     "iopub.status.busy": "2023-04-03T06:08:35.669329Z",
     "iopub.status.idle": "2023-04-03T06:08:35.852727Z",
     "shell.execute_reply": "2023-04-03T06:08:35.852089Z",
     "shell.execute_reply.started": "2023-04-03T06:08:35.669737Z"
    },
    "jupyter": {
     "outputs_hidden": false
    },
    "tags": []
   },
   "outputs": [
    {
     "name": "stdout",
     "output_type": "stream",
     "text": [
      "Downloading dataset files...\n",
      "\r"
     ]
    }
   ],
   "source": [
    "from sklearn.linear_model import Ridge\n",
    "import gc\n",
    "import json\n",
    "from pathlib import Path\n",
    "import pandas as pd\n",
    "import numpy as np\n",
    "from tqdm import tqdm\n",
    "\n",
    "from numerapi import NumerAPI\n",
    "from utils import (\n",
    "    save_model,\n",
    "    load_model,\n",
    "    neutralize,\n",
    "    validation_metrics,\n",
    "    ERA_COL,\n",
    "    DATA_TYPE_COL,\n",
    "    TARGET_COL,\n",
    "    EXAMPLE_PREDS_COL,\n",
    ")\n",
    "\n",
    "#correlation_threshold = 0.005\n",
    "\n",
    "number_features = 200\n",
    "\n",
    "# download all the things\n",
    "\n",
    "napi = NumerAPI()\n",
    "\n",
    "current_round = napi.get_current_round()\n",
    "\n",
    "# Tournament data changes every week, so we specify the round in their name. Training\n",
    "# and validation data only change periodically, so no need to download them every time.\n",
    "print(\"Downloading dataset files...\")\n",
    "dataset_name = \"v4.1\"\n",
    "feature_set_name = \"correlation_threshold\"\n",
    "\n",
    "Path(f\"./{dataset_name}\").mkdir(parents=False, exist_ok=True)\n"
   ]
  },
  {
   "cell_type": "code",
   "execution_count": 11,
   "metadata": {
    "collapsed": false,
    "execution": {
     "iopub.execute_input": "2023-04-03T06:09:06.814552Z",
     "iopub.status.busy": "2023-04-03T06:09:06.814025Z",
     "iopub.status.idle": "2023-04-03T06:09:18.602041Z",
     "shell.execute_reply": "2023-04-03T06:09:18.601214Z",
     "shell.execute_reply.started": "2023-04-03T06:09:06.814512Z"
    },
    "jupyter": {
     "outputs_hidden": false
    },
    "tags": []
   },
   "outputs": [
    {
     "name": "stderr",
     "output_type": "stream",
     "text": [
      "2023-04-03 06:09:07,387 INFO numerapi.utils: target file already exists\n",
      "2023-04-03 06:09:07,388 INFO numerapi.utils: download complete\n",
      "2023-04-03 06:09:07,990 INFO numerapi.utils: target file already exists\n",
      "2023-04-03 06:09:07,991 INFO numerapi.utils: download complete\n",
      "2023-04-03 06:09:08,638 INFO numerapi.utils: target file already exists\n",
      "2023-04-03 06:09:08,639 INFO numerapi.utils: download complete\n",
      "2023-04-03 06:09:09,148 INFO numerapi.utils: target file already exists\n",
      "2023-04-03 06:09:09,150 INFO numerapi.utils: download complete\n",
      "2023-04-03 06:09:09,605 INFO numerapi.utils: target file already exists\n",
      "2023-04-03 06:09:09,606 INFO numerapi.utils: download complete\n"
     ]
    },
    {
     "name": "stdout",
     "output_type": "stream",
     "text": [
      "Reading minimal training data\n",
      "['feature_honoured_observational_balaamite', 'feature_polaroid_vadose_quinze', 'feature_untidy_withdrawn_bargeman', 'feature_genuine_kyphotic_trehala', 'feature_unenthralled_sportful_schoolhouse', 'feature_divulsive_explanatory_ideologue', 'feature_ichthyotic_roofed_yeshiva', 'feature_waggly_outlandish_carbonisation', 'feature_floriated_amish_sprite', 'feature_iconoclastic_parietal_agonist', 'feature_demolished_unfrightened_superpower', 'feature_styloid_subdermal_cytotoxin', 'feature_ironfisted_nonvintage_chlorpromazine', 'feature_torose_unspiritualised_kylie', 'feature_tearing_unkingly_adulthood', 'feature_stylolitic_brown_spume', 'feature_ferial_incumbent_engraving', 'feature_litigant_unsizable_rhebok', 'feature_floatiest_quintuplicate_carpentering', 'feature_tuberculate_patelliform_paging', 'feature_cuddlesome_undernamed_incidental', 'feature_loony_zirconic_hoofer', 'feature_indign_tardier_borough', 'feature_fair_papal_vinaigrette', 'feature_attack_unlit_milling', 'feature_froggier_unlearned_underworkman', 'feature_peninsular_pulsatile_vapor', 'feature_midmost_perspiratory_hubert', 'feature_laminable_unspecified_gynoecium', 'feature_bally_bathymetrical_isadora', 'feature_skim_unmeant_bandsman', 'feature_ungenuine_sporophytic_evangelist', 'feature_supercelestial_telic_dyfed', 'feature_inconsiderate_unbooted_ricer', 'feature_inured_conservable_forcer', 'feature_glibber_deficient_jakarta', 'feature_morbific_irredentist_interregnum', 'feature_conjoint_transverse_superstructure', 'feature_tingling_large_primordiality', 'feature_phyllopod_unconstrainable_blubberer', 'feature_deformable_unitary_schistosity', 'feature_unprovisioned_aquatic_deuterogamy', 'feature_equipped_undoubted_athanasian', 'feature_inflammable_numb_anticline', 'feature_kinky_benzal_holotype', 'feature_ruptured_designing_interpolator', 'feature_hierologic_expectable_maiolica', 'feature_boiling_won_rama', 'feature_lovelorn_aided_limiter', 'feature_soviet_zibeline_profiler', 'feature_altimetrical_muddled_symbolism', 'feature_bratty_disrespectable_bookstand', 'feature_unshaken_ahorse_wehrmacht', 'feature_mightier_chivalric_kana', 'feature_gambrel_unblessed_gigantomachy', 'feature_ethiopic_anhedonic_stob', 'feature_overstrung_dysmenorrheal_ingolstadt', 'feature_rose_buttoned_dandy', 'feature_recipient_perched_dendrochronologist', 'feature_spikier_ordinate_taira', 'feature_mercian_luddite_aganippe', 'feature_faint_consociate_rhytidectomy', 'feature_unpressed_mahratta_dah', 'feature_maxillary_orphic_despicability', 'feature_clasping_fast_menstruation', 'feature_obeliscal_bewildered_reviewer', 'feature_babist_moribund_myna', 'feature_underdressed_tanagrine_prying', 'feature_corniest_undue_scall', 'feature_reduplicative_appalling_metastable', 'feature_wrathful_prolix_colotomy', 'feature_limonitic_issuable_melancholy', 'feature_approximal_telautographic_sharkskin', 'feature_fribble_gusseted_stickjaw', 'feature_spec_subversive_plotter', 'feature_unsinkable_dumbstruck_octuplet', 'feature_integrative_reviviscent_governed', 'feature_tamil_grungy_empathy', 'feature_canopic_exigible_schoolgirl', 'feature_plumular_constantinian_repositing', 'feature_serpentiform_trinary_imponderability', 'feature_gyroidal_embowed_pilcher', 'feature_unlivable_armenian_wedge', 'feature_flawed_demonological_toady', 'feature_pruinose_raploch_roubaix', 'feature_seediest_ramshackle_reclamation', 'feature_hagiological_refer_vitamin', 'feature_alcibiadean_lumpier_origan', 'feature_encased_unamiable_hasidism', 'feature_evocable_woollen_guarder', 'feature_hunchbacked_unturning_meditation', 'feature_circumnavigable_naughty_retranslation', 'feature_testicular_slashed_ventosity', 'feature_potential_subsessile_disconnection', 'feature_unswaddled_inenarrable_goody', 'feature_stellular_paler_centralisation', 'feature_angevin_fitful_sultan', 'feature_subinfeudatory_brainy_carmel', 'feature_simpatico_cadential_pup', 'feature_esculent_erotic_epoxy', 'feature_milliary_hyperpyretic_medea', 'feature_coraciiform_sciurine_reef', 'feature_weightiest_protozoic_brawler', 'feature_cooled_perkiest_electrodeposition', 'feature_differing_peptizing_womaniser', 'feature_gleaming_monosyllabic_scrod', 'feature_unyielding_dismal_divertissement', 'feature_rankine_meaty_port', 'feature_southernmost_unhuman_arbiter', 'feature_singhalese_cerographical_ego', 'feature_malignant_campodeid_pluton', 'feature_dure_jaspery_mugging', 'feature_educational_caustic_mythologisation', 'feature_diverted_astral_dunghill', 'feature_degenerate_diaphragmatic_literalizer', 'feature_laced_scraggly_grimalkin', 'feature_wheezier_unjaundiced_game', 'feature_unimpressed_uninflected_theophylline', 'feature_shiite_overfed_mense', 'feature_irritant_reciprocal_pelage', 'feature_bricky_runed_bottleful', 'feature_phyletic_separate_genuflexion', 'feature_peckish_impetrative_kanpur', 'feature_unshrinking_semiarid_floccule', 'feature_heartier_salverform_nephew', 'feature_geostrophic_adaptative_karla', 'feature_navigational_enured_condensability', 'feature_confusable_pursy_plosion', 'feature_clenched_wayward_coelostat', 'feature_developed_arbitrary_traditionalist', 'feature_unnameable_abysmal_net', 'feature_completive_pedantical_sinecurist', 'feature_witchy_orange_muley', 'feature_misfeatured_sometime_tunneler', 'feature_agaze_lancinate_zohar', 'feature_subservient_wedged_limping', 'feature_urticant_ultracentrifugal_wane', 'feature_pulverized_unified_dupery', 'feature_stoichiometric_unanswerable_leveller', 'feature_cyanophyte_emasculated_turpin', 'feature_unruly_salian_impetuosity', 'feature_ataractic_swept_rubeola', 'feature_pansophical_agitato_theatricality', 'feature_recreational_homiletic_nubian', 'feature_burning_phrygian_axinomancy', 'feature_protractive_moral_forswearing', 'feature_certificated_putrescent_godship', 'feature_dietetic_unscholarly_methamphetamine', 'feature_vegetable_manlier_macaco', 'feature_anthropoid_pithy_newscast', 'feature_verifying_imagism_sublease', 'feature_deckled_exaggerative_algol', 'feature_songful_intercostal_frightener', 'feature_additive_untrustworthy_hierologist', 'feature_translative_quantitative_eschewer', 'feature_coseismic_surpassable_invariance', 'feature_blubbery_octahedral_bushfire', 'feature_continued_conjugated_natalia', 'feature_dissident_templed_shippon', 'feature_wally_unrotted_eccrinology', 'feature_unforgivable_airtight_reinsurance', 'feature_unrelenting_intravascular_mesenchyme', 'feature_linear_scummiest_insobriety', 'feature_ovine_bramblier_leaven', 'feature_uninforming_predictable_pepino', 'feature_pluviometrical_biannual_saiga', 'feature_affettuoso_taxidermic_greg', 'feature_lateral_confervoid_belgravia', 'feature_coalier_hircine_brokerage', 'feature_undiverted_analyzed_accidie', 'feature_favourable_swankiest_tympanist', 'feature_refractory_topped_dependance', 'feature_bustled_fieriest_doukhobor', 'feature_isobilateral_olden_nephron', 'feature_circassian_leathern_impugner', 'feature_signed_ringent_sunna', 'feature_cornute_potentiometric_tinhorn', 'feature_veristic_parklike_halcyon', 'feature_geochemical_unsavoury_collection', 'feature_guerrilla_arrested_flavine', 'feature_undependable_stedfast_donegal', 'feature_bijou_penetrant_syringa', 'feature_lamarckian_tarnal_egestion', 'feature_horticultural_footworn_superscription', 'feature_unwithered_personate_dilatation', 'feature_wrought_muckier_temporality', 'feature_rival_undepraved_countermarch', 'feature_irrevocable_unlawful_oral', 'feature_flawy_caller_superior', 'feature_elohistic_totalitarian_underline', 'feature_unrecognisable_waxier_paging', 'feature_paraffinoid_flashiest_brotherhood', 'feature_depauperate_armipotent_decentralisation', 'feature_received_veiniest_tamarix', 'feature_scissile_dejected_kainite', 'feature_narcotized_collectivist_evzone', 'feature_jamesian_scutiform_ionium', 'feature_gambogian_feudalist_diocletian', 'feature_moneyed_mesophytic_lester', 'feature_purblind_autarkic_pyrenoid']\n"
     ]
    },
    {
     "data": {
      "text/plain": [
       "0"
      ]
     },
     "execution_count": 11,
     "metadata": {},
     "output_type": "execute_result"
    },
    {
     "name": "stdout",
     "output_type": "stream",
     "text": [
      "\r"
     ]
    }
   ],
   "source": [
    "# we'll use the int8 in this example in order to save RAM.\n",
    "# if you remove the int8 suffix for each of these files, you'll get features between 0 and 1 as floats.\n",
    "# int_8 files are much smaller...\n",
    "# but are harder to work with because some packages don't like ints and the way NAs are encoded.\n",
    "\n",
    "napi.download_dataset(f\"{dataset_name}/train.parquet\")\n",
    "napi.download_dataset(f\"{dataset_name}/validation.parquet\")\n",
    "napi.download_dataset(f\"{dataset_name}/live.parquet\", f\"{dataset_name}/live_{current_round}.parquet\")\n",
    "\n",
    "#napi.download_dataset(f\"{dataset_name}/train_int8.parquet\")\n",
    "#napi.download_dataset(f\"{dataset_name}/validation_int8.parquet\")\n",
    "#napi.download_dataset(\n",
    "#    f\"{dataset_name}/live_int8.parquet\",\n",
    "#    f\"{dataset_name}/live_int8_{current_round}.parquet\",\n",
    "#)\n",
    "\n",
    "napi.download_dataset(f\"{dataset_name}/validation_example_preds.parquet\")\n",
    "napi.download_dataset(f\"{dataset_name}/features.json\")\n",
    "\n",
    "print(\"Reading minimal training data\")\n",
    "# read the feature metadata and get a feature set (or all the features)\n",
    "\n",
    "\n",
    "with open(f\"{dataset_name}/features.json\", \"r\") as f:\n",
    "    feature_metadata = json.load(f)\n",
    "\n",
    "# include features above a correlation threshold\n",
    "\n",
    "df = pd.DataFrame(feature_metadata[\"feature_stats\"])\n",
    "df = df.T\n",
    "df['spearman_corr_w_target_nomi_20_mean'] = df['spearman_corr_w_target_nomi_20_mean'].abs()\n",
    "df.sort_values('spearman_corr_w_target_nomi_20_mean',ascending=False)\n",
    "dfs = df.head(number_features)\n",
    "features = list(dfs.index)\n",
    "\n",
    "print(features) \n",
    "\n",
    "\n",
    "target_cols = feature_metadata[\"targets\"]\n",
    "# read in just those features along with era and target columns\n",
    "read_columns = features + target_cols + [ERA_COL, DATA_TYPE_COL]\n",
    "\n",
    "# note: sometimes when trying to read the downloaded data you get an error about invalid magic parquet bytes...\n",
    "# if so, delete the file and rerun the napi.download_dataset to fix the corrupted file\n",
    "training_data = pd.read_parquet(\n",
    "    f\"{dataset_name}/train.parquet\", columns=read_columns\n",
    ")\n",
    "validation_data = pd.read_parquet(\n",
    "    f\"{dataset_name}/validation.parquet\", columns=read_columns\n",
    ")\n",
    "live_data = pd.read_parquet(f\"{dataset_name}/live_{current_round}.parquet\", columns=read_columns)\n",
    "\n",
    "# reduce the number of eras to every 4th era to speed things up... uncomment these lines to speed things up.\n",
    "# every_4th_era = training_data[ERA_COL].unique()[::4]\n",
    "# training_data = training_data[training_data[ERA_COL].isin(every_4th_era)]\n",
    "# every_4th_era = validation_data[ERA_COL].unique()[::4]\n",
    "# validation_data = validation_data[validation_data[ERA_COL].isin(every_4th_era)]\n",
    "\n",
    "\n",
    "# get all the data to possibly use for training\n",
    "all_data = pd.concat([training_data, validation_data]) \n",
    "\n",
    "# save indices for easier data selection later\n",
    "training_index = training_data.index\n",
    "validation_index = validation_data.index\n",
    "all_index = all_data.index\n",
    "\n",
    "# delete training data to save space\n",
    "del training_data\n",
    "del validation_data\n",
    "\n",
    "gc.collect()  # clear up memory"
   ]
  },
  {
   "cell_type": "code",
   "execution_count": 12,
   "metadata": {
    "collapsed": false,
    "execution": {
     "iopub.execute_input": "2023-04-03T06:09:19.001539Z",
     "iopub.status.busy": "2023-04-03T06:09:19.001166Z",
     "iopub.status.idle": "2023-04-03T06:18:07.423407Z",
     "shell.execute_reply": "2023-04-03T06:18:07.422651Z",
     "shell.execute_reply.started": "2023-04-03T06:09:19.001511Z"
    },
    "jupyter": {
     "outputs_hidden": false
    },
    "tags": []
   },
   "outputs": [
    {
     "name": "stdout",
     "output_type": "stream",
     "text": [
      "cleaning up NAs\n",
      "\r"
     ]
    }
   ],
   "source": [
    "# Int8 datatype has pd.NA which don't play nice with models.  We simply fill NA with median values here\n",
    "print(\"cleaning up NAs\")\n",
    "fill_value = all_data[features].median(skipna=True)\n",
    "all_data[features] = all_data[features].fillna(fill_value)\n",
    "all_data[features] = all_data[features].astype(\"float32\")  # make sure change to float32 if using the non int8 data!\n",
    "live_data[features] = live_data[features].fillna(fill_value)\n",
    "# since live data is only one era, we need to use the median for all eras\n",
    "live_data[features] = live_data[features].astype(\"float32\")  # make sure change to float32 if using the non int8 data!\n",
    "# Alternatively could convert nan columns to be floats and replace pd.NA with np.nan"
   ]
  },
  {
   "cell_type": "code",
   "execution_count": 17,
   "metadata": {
    "collapsed": false,
    "execution": {
     "iopub.execute_input": "2023-04-03T06:21:30.293272Z",
     "iopub.status.busy": "2023-04-03T06:21:30.292921Z",
     "iopub.status.idle": "2023-04-03T06:21:36.722046Z",
     "shell.execute_reply": "2023-04-03T06:21:36.721160Z",
     "shell.execute_reply.started": "2023-04-03T06:21:30.293236Z"
    },
    "jupyter": {
     "outputs_hidden": false
    },
    "tags": []
   },
   "outputs": [
    {
     "name": "stderr",
     "output_type": "stream",
     "text": [
      "  0%|          | 0/1 [00:00<?, ?it/s]"
     ]
    },
    {
     "name": "stdout",
     "output_type": "stream",
     "text": [
      "Checking for existing model 'train_data_ridge_v4.1_correlation_threshold_target_nomi_v4_20'\n",
      "Checking for existing model 'all_data_ridge_v4.1_correlation_threshold_target_nomi_v4_20'\n"
     ]
    },
    {
     "name": "stderr",
     "output_type": "stream",
     "text": [
      "100%|██████████| 1/1 [00:06<00:00,  6.13s/it]\n"
     ]
    },
    {
     "name": "stdout",
     "output_type": "stream",
     "text": [
      "\r"
     ]
    }
   ],
   "source": [
    "# recommended params\n",
    "params_name = \"ridge\"\n",
    "\n",
    "\n",
    "# loop through all of our favorite targets and build models on each of them -\n",
    "# one over training data, one over all available data\n",
    "# for the train_data models, we'll then predict on validation data\n",
    "# for the all_data models, we'll predict on live\n",
    "targets = [\n",
    "    \"target_nomi_v4_20\"   \n",
    "]\n",
    "\n",
    "# other targets\n",
    "#\n",
    "#    \"target_jerome_v4_60\",\n",
    "#    \"target_ralph_v4_20\",\n",
    "#    \"target_tyler_v4_20\",\n",
    "#    \"target_victor_v4_20\",\n",
    "#    \"target_waldo_v4_20\",\n",
    "\n",
    "\n",
    "\n",
    "prediction_cols = []\n",
    "for target in tqdm(targets):\n",
    "    prediction_col = f\"{params_name}_{dataset_name}_{feature_set_name}_{target}\"\n",
    "    train_data_model_name = f\"train_data_{prediction_col}\"\n",
    "    print(f\"Checking for existing model '{train_data_model_name}'\")\n",
    "    train_model = load_model(train_data_model_name)\n",
    "    if not train_model:\n",
    "        print(f\"model not found, creating new one\")\n",
    "        train_model = Ridge(alpha=0.9)\n",
    "        # train on all training data and save the model, so we don't have to train next time\n",
    "        target_train_index = (\n",
    "            all_data.loc[training_index, target].dropna().index\n",
    "            )  # make sure we only train on rows which have this target\n",
    "        train_model.fit(\n",
    "            all_data.loc[target_train_index, features],\n",
    "            all_data.loc[target_train_index, target],\n",
    "            )  # in case targets are missing data\n",
    "        print(f\"saving new model: {train_data_model_name}\")\n",
    "        save_model(train_model, train_data_model_name)\n",
    "\n",
    "    # predict on validation data\n",
    "    all_data.loc[validation_index, prediction_col] = train_model.predict(all_data.loc[validation_index, features])\n",
    "    gc.collect()\n",
    "\n",
    "    # do the same thing for all data (for predicting on live)\n",
    "    all_data_model_name = f\"all_data_{prediction_col}\"\n",
    "    print(f\"Checking for existing model '{all_data_model_name}'\")\n",
    "    all_data_model = load_model(all_data_model_name)\n",
    "    if not all_data_model:\n",
    "        print(f\"model not found, creating new one\")\n",
    "        all_data_model = Ridge(alpha=0.9)\n",
    "        all_data_target_index = (\n",
    "            all_data.loc[training_index, target].dropna().index\n",
    "                                )\n",
    "        # make sure we only train on rows which have this target\n",
    "        # train and save the model so we don't have to train next time\n",
    "        all_data_model.fit(\n",
    "            all_data.loc[all_data_target_index, features],\n",
    "            all_data.loc[all_data_target_index, target],\n",
    "                        )\n",
    "        print(f\"saving new model: {all_data_model_name}\")\n",
    "        save_model(all_data_model, all_data_model_name)\n",
    "\n",
    "    # predict on live data\n",
    "    live_data[prediction_col] = all_data_model.predict(live_data[features].fillna(np.nan))\n",
    "    # filling live data with nans makes us ignore those features if necessary\n",
    "    gc.collect()\n",
    "\n",
    "    prediction_cols.append(prediction_col)\n",
    "\n",
    "# make an ensemble\n",
    "all_data.loc[:, \"equal_weight\"] = all_data[prediction_cols].mean(axis=1)\n",
    "live_data[\"equal_weight\"] = live_data[prediction_cols].mean(axis=1)\n",
    "\n",
    "prediction_cols.append(\"equal_weight\")"
   ]
  },
  {
   "cell_type": "code",
   "execution_count": null,
   "metadata": {
    "collapsed": false,
    "jupyter": {
     "outputs_hidden": false
    },
    "tags": []
   },
   "outputs": [],
   "source": [
    "\n",
    "model_to_submit = f\"target_nomi_v4_20\"\n",
    "\n",
    "# rename best model to \"prediction\" and rank from 0 to 1 to meet upload requirements\n",
    "all_data.loc[validation_index, \"prediction\"] = all_data.loc[\n",
    "    validation_index, model_to_submit\n",
    "].rank(pct=True)\n",
    "live_data[\"prediction\"] = live_data[model_to_submit].rank(pct=True)\n",
    "all_data.loc[validation_index, \"prediction\"].to_csv(\n",
    "    f\"validation_predictions_{current_round}.csv\"\n",
    ")\n",
    "live_data[\"prediction\"].to_csv(f\"live_predictions_{current_round}.csv\")\n",
    "\n",
    "validation_example_preds = pd.read_parquet(\n",
    "    f\"{dataset_name}/validation_example_preds.parquet\"\n",
    ")\n",
    "all_data.loc[validation_index, EXAMPLE_PREDS_COL] = validation_example_preds[\n",
    "    \"prediction\"\n",
    "]\n",
    "\n",
    "# get some stats about each of our models to compare...\n",
    "# fast_mode=True so that we skip some of the stats that are slower to calculate\n",
    "validation_stats = validation_metrics(\n",
    "    all_data.loc[validation_index, :],\n",
    "    prediction_cols,\n",
    "    example_col=EXAMPLE_PREDS_COL,\n",
    "    fast_mode=True,\n",
    "    target_col=TARGET_COL,\n",
    ")\n",
    "print(validation_stats[[\"mean\", \"std\", \"sharpe\"]].to_markdown())\n",
    "\n",
    "print(\n",
    "    f\"\"\"\n",
    "Done! Next steps:\n",
    "    1. Go to numer.ai/tournament (make sure you have an account)\n",
    "    2. Submit validation_predictions_{current_round}.csv to the diagnostics tool\n",
    "    3. Submit tournament_predictions_{current_round}.csv to the \"Upload Predictions\" button\n",
    "\"\"\"\n",
    ")\n"
   ]
  },
  {
   "cell_type": "code",
   "execution_count": null,
   "metadata": {},
   "outputs": [],
   "source": []
  }
 ],
 "metadata": {
  "kernelspec": {
   "display_name": "saturn (Python 3)",
   "language": "python",
   "name": "python3"
  },
  "language_info": {
   "codemirror_mode": {
    "name": "ipython",
    "version": 3
   },
   "file_extension": ".py",
   "mimetype": "text/x-python",
   "name": "python",
   "nbconvert_exporter": "python",
   "pygments_lexer": "ipython3",
   "version": "3.9.15"
  }
 },
 "nbformat": 4,
 "nbformat_minor": 4
}
